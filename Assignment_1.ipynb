{
 "cells": [
  {
   "cell_type": "markdown",
   "id": "e4eaad85",
   "metadata": {},
   "source": [
    "# Write a Python program to print 'Hello Python'? "
   ]
  },
  {
   "cell_type": "code",
   "execution_count": 1,
   "id": "8cffe731",
   "metadata": {},
   "outputs": [
    {
     "name": "stdout",
     "output_type": "stream",
     "text": [
      "Hello Python\n"
     ]
    }
   ],
   "source": [
    "my_str = 'Hello Python' \n",
    "print(my_str)"
   ]
  },
  {
   "cell_type": "markdown",
   "id": "065351da",
   "metadata": {},
   "source": [
    "# Write a Python program to do arithmetical operations addition and division.?"
   ]
  },
  {
   "cell_type": "code",
   "execution_count": 2,
   "id": "2e791f8b",
   "metadata": {},
   "outputs": [],
   "source": [
    "def add_div(a,b):\n",
    "    operation_add = a + b \n",
    "    operation_div = a / b \n",
    "    \n",
    "    print('addition_result', operation_add) \n",
    "    print('division_result', operation_div)"
   ]
  },
  {
   "cell_type": "code",
   "execution_count": 3,
   "id": "9b0e04ab",
   "metadata": {},
   "outputs": [
    {
     "name": "stdout",
     "output_type": "stream",
     "text": [
      "addition_result 60\n",
      "division_result 2.0\n"
     ]
    }
   ],
   "source": [
    "add_div(40,20)"
   ]
  },
  {
   "cell_type": "markdown",
   "id": "c71f782c",
   "metadata": {},
   "source": [
    "# Write a Python program to find the area of a triangle?"
   ]
  },
  {
   "cell_type": "code",
   "execution_count": 4,
   "id": "1e5add83",
   "metadata": {},
   "outputs": [],
   "source": [
    "def area_of_triangle(b,h): \n",
    "    area = 0.5 * b * h \n",
    "    print('area of triangle with base {} and height {} is {}'.format(b,h,area)) "
   ]
  },
  {
   "cell_type": "code",
   "execution_count": 5,
   "id": "037858fa",
   "metadata": {},
   "outputs": [
    {
     "name": "stdout",
     "output_type": "stream",
     "text": [
      "area of triangle with base 20 and height 5 is 50.0\n"
     ]
    }
   ],
   "source": [
    "area_of_triangle(20,5)"
   ]
  },
  {
   "cell_type": "markdown",
   "id": "2198e8d3",
   "metadata": {},
   "source": [
    "# Write a Python program to swap two variables?"
   ]
  },
  {
   "cell_type": "code",
   "execution_count": 6,
   "id": "5180f43d",
   "metadata": {},
   "outputs": [],
   "source": [
    "def swap_var(a,b): \n",
    "    print('original values of variables a = {} and b = {}'.format(a,b))\n",
    "    a,b = b,a \n",
    "    print('value of variable after swapping a = {} and b = {}'.format(a,b))"
   ]
  },
  {
   "cell_type": "code",
   "execution_count": 7,
   "id": "3072fa11",
   "metadata": {},
   "outputs": [
    {
     "name": "stdout",
     "output_type": "stream",
     "text": [
      "original values of variables a = 34 and b = 98\n",
      "value of variable after swapping a = 98 and b = 34\n"
     ]
    }
   ],
   "source": [
    "swap_var(34,98)"
   ]
  },
  {
   "cell_type": "markdown",
   "id": "da0b7e1c",
   "metadata": {},
   "source": [
    "# Write a Python program to generate a random number?"
   ]
  },
  {
   "cell_type": "code",
   "execution_count": 8,
   "id": "a32f5510",
   "metadata": {},
   "outputs": [
    {
     "name": "stdout",
     "output_type": "stream",
     "text": [
      "0.9656934765340106\n"
     ]
    }
   ],
   "source": [
    "import numpy as np \n",
    "random_no_gen = np.random.random() \n",
    "print(random_no_gen)"
   ]
  },
  {
   "cell_type": "code",
   "execution_count": null,
   "id": "0bf1ccbf",
   "metadata": {},
   "outputs": [],
   "source": []
  }
 ],
 "metadata": {
  "kernelspec": {
   "display_name": "Python 3 (ipykernel)",
   "language": "python",
   "name": "python3"
  },
  "language_info": {
   "codemirror_mode": {
    "name": "ipython",
    "version": 3
   },
   "file_extension": ".py",
   "mimetype": "text/x-python",
   "name": "python",
   "nbconvert_exporter": "python",
   "pygments_lexer": "ipython3",
   "version": "3.9.7"
  },
  "toc": {
   "base_numbering": 1,
   "nav_menu": {},
   "number_sections": true,
   "sideBar": true,
   "skip_h1_title": false,
   "title_cell": "Table of Contents",
   "title_sidebar": "Contents",
   "toc_cell": false,
   "toc_position": {},
   "toc_section_display": true,
   "toc_window_display": false
  }
 },
 "nbformat": 4,
 "nbformat_minor": 5
}
