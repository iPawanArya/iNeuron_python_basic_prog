{
 "cells": [
  {
   "cell_type": "markdown",
   "id": "3a38bd5a",
   "metadata": {},
   "source": [
    "# Write a Python Program to find sum of array?"
   ]
  },
  {
   "cell_type": "code",
   "execution_count": null,
   "id": "850cdc1a",
   "metadata": {},
   "outputs": [],
   "source": [
    "def findsum(n): \n",
    "    arr = []\n",
    "    i = 1 \n",
    "    while i <= n: \n",
    "        if i < n:\n",
    "            num = int(input('enter the number...'))\n",
    "            arr.append(num) \n",
    "            i += 1 \n",
    "        elif i == n: \n",
    "            num = int(input('enter the last number...'))\n",
    "            arr.append(num) \n",
    "            i += 1 \n",
    "    sum = 0 \n",
    "    for i in arr: \n",
    "        sum += i \n",
    "    print(sum)"
   ]
  },
  {
   "cell_type": "code",
   "execution_count": null,
   "id": "2a9ca53a",
   "metadata": {},
   "outputs": [],
   "source": [
    "findsum(5)"
   ]
  },
  {
   "cell_type": "markdown",
   "id": "a22ed428",
   "metadata": {},
   "source": [
    "# Write a Python Program to find largest element in an array?"
   ]
  },
  {
   "cell_type": "code",
   "execution_count": null,
   "id": "c6579691",
   "metadata": {},
   "outputs": [],
   "source": [
    "def findlargest(arr): \n",
    "    for i in arr: \n",
    "        largest = max(arr) \n",
    "    print(largest)"
   ]
  },
  {
   "cell_type": "code",
   "execution_count": null,
   "id": "a6400408",
   "metadata": {},
   "outputs": [],
   "source": [
    "findlargest([78, 90, 556, 76])"
   ]
  },
  {
   "cell_type": "markdown",
   "id": "5f3a72e6",
   "metadata": {},
   "source": [
    "# Write a Python Program for array rotation?"
   ]
  },
  {
   "cell_type": "code",
   "execution_count": null,
   "id": "fd044482",
   "metadata": {},
   "outputs": [],
   "source": [
    "def rotate(arr,d):\n",
    "    \n",
    "    l = len(arr)\n",
    "    \n",
    "    temp = []\n",
    "    i = 0 \n",
    "    while i < d:\n",
    "        temp.append(arr[i]) \n",
    "        i += 1 \n",
    "    \n",
    "    i = 0 \n",
    "    while d < l: \n",
    "        arr[i] = arr[d] \n",
    "        d += 1 \n",
    "        i += 1 \n",
    "        \n",
    "    arr[:] = arr[:i] + temp \n",
    "    return arr"
   ]
  },
  {
   "cell_type": "code",
   "execution_count": null,
   "id": "58d82be1",
   "metadata": {},
   "outputs": [],
   "source": [
    "rotate([1, 2, 3, 4, 5, 6, 7], 2) "
   ]
  },
  {
   "cell_type": "code",
   "execution_count": 7,
   "id": "f622c28d",
   "metadata": {},
   "outputs": [],
   "source": [
    "# other method \n",
    "\n",
    "def rotate1(arr,d):\n",
    "    \n",
    "    arr_1 = arr.copy()\n",
    "    \n",
    "    l = len(arr)\n",
    "    \n",
    "    temp = []\n",
    "    i = 0 \n",
    "    while i < d:\n",
    "        temp.append(arr[i]) \n",
    "        arr_1.pop(0)\n",
    "        i += 1 \n",
    "    arr_1.extend(temp) \n",
    "#     return temp \n",
    "    return arr_1 "
   ]
  },
  {
   "cell_type": "code",
   "execution_count": 6,
   "id": "522157a1",
   "metadata": {},
   "outputs": [
    {
     "data": {
      "text/plain": [
       "[3, 4, 5, 6, 7, 1, 2]"
      ]
     },
     "execution_count": 6,
     "metadata": {},
     "output_type": "execute_result"
    }
   ],
   "source": [
    "rotate1([1, 2, 3, 4, 5, 6, 7], 2)"
   ]
  },
  {
   "cell_type": "markdown",
   "id": "7adb3244",
   "metadata": {},
   "source": [
    "# Write a Python Program to Split the array and add the first part to the end?"
   ]
  },
  {
   "cell_type": "code",
   "execution_count": null,
   "id": "5a874d8d",
   "metadata": {},
   "outputs": [],
   "source": [
    "def opr(arr): \n",
    "    \n",
    "    \"\"\"this function split the array and add the first part to the end\"\"\" \n",
    "    \n",
    "    l = len(arr) \n",
    "    \n",
    "    i=0 \n",
    "    while i < 0.5*l: \n",
    "        arr.append(arr.pop(0)) \n",
    "        i += 1 \n",
    "    print(arr)"
   ]
  },
  {
   "cell_type": "code",
   "execution_count": null,
   "id": "a9ded8e7",
   "metadata": {},
   "outputs": [],
   "source": [
    "opr([1,2,3,4,5,6])"
   ]
  },
  {
   "cell_type": "code",
   "execution_count": null,
   "id": "26d89772",
   "metadata": {},
   "outputs": [],
   "source": [
    "opr([1,2,3,4,5,6,7])"
   ]
  },
  {
   "cell_type": "code",
   "execution_count": null,
   "id": "b1dc216a",
   "metadata": {},
   "outputs": [],
   "source": [
    "opr([1,2,3,4,5,6,7,8])"
   ]
  },
  {
   "cell_type": "markdown",
   "id": "74b5a8a5",
   "metadata": {},
   "source": [
    "# Write a Python Program to check if given array is Monotonic?"
   ]
  },
  {
   "cell_type": "code",
   "execution_count": null,
   "id": "3ad142ae",
   "metadata": {},
   "outputs": [],
   "source": [
    "def checkmonotonic(A): \n",
    "    return all(A[i] <= A[i+1] for i in range(len(A)-1)) or all(A[i] >= A[i+1] for i in range(len(A)-1)) \n",
    "    print(checkmonotonic(A))"
   ]
  },
  {
   "cell_type": "code",
   "execution_count": null,
   "id": "fb0193f3",
   "metadata": {},
   "outputs": [],
   "source": [
    "checkmonotonic([8,9,10,11])"
   ]
  },
  {
   "cell_type": "code",
   "execution_count": null,
   "id": "ea6494c4",
   "metadata": {},
   "outputs": [],
   "source": [
    "checkmonotonic([8,9,10,11,5,7])"
   ]
  },
  {
   "cell_type": "code",
   "execution_count": null,
   "id": "0ff5651a",
   "metadata": {},
   "outputs": [],
   "source": []
  }
 ],
 "metadata": {
  "kernelspec": {
   "display_name": "Python 3 (ipykernel)",
   "language": "python",
   "name": "python3"
  },
  "language_info": {
   "codemirror_mode": {
    "name": "ipython",
    "version": 3
   },
   "file_extension": ".py",
   "mimetype": "text/x-python",
   "name": "python",
   "nbconvert_exporter": "python",
   "pygments_lexer": "ipython3",
   "version": "3.9.7"
  },
  "toc": {
   "base_numbering": 1,
   "nav_menu": {},
   "number_sections": true,
   "sideBar": true,
   "skip_h1_title": false,
   "title_cell": "Table of Contents",
   "title_sidebar": "Contents",
   "toc_cell": false,
   "toc_position": {},
   "toc_section_display": true,
   "toc_window_display": false
  }
 },
 "nbformat": 4,
 "nbformat_minor": 5
}
