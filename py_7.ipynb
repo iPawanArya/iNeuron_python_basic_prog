{
 "cells": [
  {
   "cell_type": "markdown",
   "id": "b4cc5356",
   "metadata": {},
   "source": [
    "# Write a Python Program to Add Two Matrices?"
   ]
  },
  {
   "cell_type": "code",
   "execution_count": 1,
   "id": "89850749",
   "metadata": {},
   "outputs": [],
   "source": [
    "x = [[9, 5, 3],\n",
    "     [2, 6, 1],\n",
    "     [7,8,9]] \n",
    "\n",
    "y = [[7, 2, 1],\n",
    "     [3, 4, 8],\n",
    "     [9,8,9]]"
   ]
  },
  {
   "cell_type": "code",
   "execution_count": 2,
   "id": "80b723fe",
   "metadata": {},
   "outputs": [
    {
     "name": "stdout",
     "output_type": "stream",
     "text": [
      "[[9, 5, 3], [2, 6, 1], [7, 8, 9]]\n"
     ]
    }
   ],
   "source": [
    "print(x) "
   ]
  },
  {
   "cell_type": "code",
   "execution_count": 3,
   "id": "b2da782f",
   "metadata": {},
   "outputs": [
    {
     "name": "stdout",
     "output_type": "stream",
     "text": [
      "[[7, 2, 1], [3, 4, 8], [9, 8, 9]]\n"
     ]
    }
   ],
   "source": [
    "print(y) "
   ]
  },
  {
   "cell_type": "code",
   "execution_count": 4,
   "id": "9842e1a6",
   "metadata": {},
   "outputs": [],
   "source": [
    "# iterate through rows\n",
    "for i in range(len(x)): \n",
    "    # iterate through column\n",
    "    for j in range(len(x[0])): \n",
    "        res[i][j] = x[i][j] + y[i][j]\n",
    "    "
   ]
  },
  {
   "cell_type": "code",
   "execution_count": 5,
   "id": "0c027d80",
   "metadata": {},
   "outputs": [
    {
     "data": {
      "text/plain": [
       "[[16, 7, 4], [5, 10, 9], [16, 16, 18]]"
      ]
     },
     "execution_count": 5,
     "metadata": {},
     "output_type": "execute_result"
    }
   ],
   "source": [
    "res"
   ]
  },
  {
   "cell_type": "markdown",
   "id": "b652674d",
   "metadata": {},
   "source": [
    "# Write a Python Program to Multiply Two Matrices?"
   ]
  },
  {
   "cell_type": "code",
   "execution_count": 6,
   "id": "74ea0f69",
   "metadata": {},
   "outputs": [],
   "source": [
    "# res = [[1,1,1],\n",
    "#       [1,1,1],\n",
    "#       [1,1,1]]\n",
    "\n",
    "# iterate through rows\n",
    "for i in range(len(x)): \n",
    "    # iterate through column\n",
    "    for j in range(len(x[0])): \n",
    "        res[i][j] = x[i][j] * y[i][j]"
   ]
  },
  {
   "cell_type": "code",
   "execution_count": 7,
   "id": "db6e0bae",
   "metadata": {},
   "outputs": [
    {
     "data": {
      "text/plain": [
       "[[63, 10, 3], [6, 24, 8], [63, 64, 81]]"
      ]
     },
     "execution_count": 7,
     "metadata": {},
     "output_type": "execute_result"
    }
   ],
   "source": [
    "res "
   ]
  },
  {
   "cell_type": "markdown",
   "id": "af9a9557",
   "metadata": {},
   "source": [
    "# Write a Python Program to Transpose a Matrix?"
   ]
  },
  {
   "cell_type": "code",
   "execution_count": 8,
   "id": "3aa82f90",
   "metadata": {},
   "outputs": [],
   "source": [
    "# iterate through rows\n",
    "for i in range(len(x)): \n",
    "    # iterate through column\n",
    "    for j in range(len(x[0])): \n",
    "        res[i][j] = x[j][i]"
   ]
  },
  {
   "cell_type": "code",
   "execution_count": 9,
   "id": "e5c24d36",
   "metadata": {},
   "outputs": [
    {
     "data": {
      "text/plain": [
       "[[9, 2, 7], [5, 6, 8], [3, 1, 9]]"
      ]
     },
     "execution_count": 9,
     "metadata": {},
     "output_type": "execute_result"
    }
   ],
   "source": [
    "res "
   ]
  },
  {
   "cell_type": "markdown",
   "id": "b288797a",
   "metadata": {},
   "source": [
    "# Write a Python Program to Sort Words in Alphabetic Order?"
   ]
  },
  {
   "cell_type": "code",
   "execution_count": 10,
   "id": "c7805780",
   "metadata": {},
   "outputs": [
    {
     "name": "stdout",
     "output_type": "stream",
     "text": [
      "a\n",
      "alphabetical\n",
      "in\n",
      "is\n",
      "order\n",
      "program\n",
      "python\n",
      "sort\n",
      "this\n",
      "to\n",
      "words\n"
     ]
    }
   ],
   "source": [
    "my_str = 'This is a python program to sort words in Alphabetical Order' \n",
    "\n",
    "words = [word.lower() for word in my_str.split()] \n",
    "words.sort()\n",
    "\n",
    "for word in words: \n",
    "    print(word)"
   ]
  },
  {
   "cell_type": "markdown",
   "id": "fe6b330d",
   "metadata": {},
   "source": [
    "# Write a Python Program to Remove Punctuation From a String?"
   ]
  },
  {
   "cell_type": "code",
   "execution_count": 18,
   "id": "9aa75d77",
   "metadata": {},
   "outputs": [
    {
     "data": {
      "text/plain": [
       "'Hello he said and went'"
      ]
     },
     "execution_count": 18,
     "metadata": {},
     "output_type": "execute_result"
    }
   ],
   "source": [
    "# define punctuation\n",
    "punctuations = '''!()-[]{};:'\"\\,<>./?@#$%^&*_~'''\n",
    "\n",
    "my_str = \"Hello!!!, he said ---and went.\" \n",
    "\n",
    "clean_str = ''\n",
    "\n",
    "for char in my_str: \n",
    "    if char not in punctuations: \n",
    "        clean_str = clean_str + char\n",
    "    else: \n",
    "        pass \n",
    "clean_str"
   ]
  },
  {
   "cell_type": "code",
   "execution_count": null,
   "id": "a9c786d6",
   "metadata": {},
   "outputs": [],
   "source": []
  }
 ],
 "metadata": {
  "kernelspec": {
   "display_name": "Python 3 (ipykernel)",
   "language": "python",
   "name": "python3"
  },
  "language_info": {
   "codemirror_mode": {
    "name": "ipython",
    "version": 3
   },
   "file_extension": ".py",
   "mimetype": "text/x-python",
   "name": "python",
   "nbconvert_exporter": "python",
   "pygments_lexer": "ipython3",
   "version": "3.9.7"
  },
  "toc": {
   "base_numbering": 1,
   "nav_menu": {},
   "number_sections": true,
   "sideBar": true,
   "skip_h1_title": false,
   "title_cell": "Table of Contents",
   "title_sidebar": "Contents",
   "toc_cell": false,
   "toc_position": {},
   "toc_section_display": true,
   "toc_window_display": false
  }
 },
 "nbformat": 4,
 "nbformat_minor": 5
}
