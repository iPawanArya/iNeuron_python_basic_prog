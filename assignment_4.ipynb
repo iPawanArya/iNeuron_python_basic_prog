{
 "cells": [
  {
   "cell_type": "markdown",
   "id": "47949161",
   "metadata": {},
   "source": [
    "# Write a Python Program to Find the Factorial of a Number?"
   ]
  },
  {
   "cell_type": "code",
   "execution_count": 21,
   "id": "43cd7e04",
   "metadata": {},
   "outputs": [],
   "source": [
    "import logging \n",
    "logging.basicConfig(filename='log1.log', level=logging.INFO, format=\"%(asctime)s %(levelname)s %(message)s\",filemode='w') "
   ]
  },
  {
   "cell_type": "code",
   "execution_count": 22,
   "id": "e677a1f5",
   "metadata": {},
   "outputs": [],
   "source": [
    "def findfactorial(): \n",
    "    '''calculates the factorial value'''\n",
    "    \n",
    "    num = int(input('enter the number')) \n",
    "    \n",
    "    logging.info(f'calculating the factorial value of {num}')\n",
    "    \n",
    "    try:\n",
    "        factorial = 1\n",
    "    \n",
    "        if num > 0: \n",
    "            for i in range(1,num+1): \n",
    "                factorial = factorial*i \n",
    "            print(f'factorial of {num} is {factorial}')\n",
    "\n",
    "        elif num == 0: \n",
    "            print('factorial of 0 is 1') \n",
    "\n",
    "        else: \n",
    "            print('factorial is not defined') \n",
    "            \n",
    "    except Exception as e:\n",
    "        print(e)\n",
    "        logging.exception(e)\n",
    "        "
   ]
  },
  {
   "cell_type": "code",
   "execution_count": 23,
   "id": "85d139c4",
   "metadata": {},
   "outputs": [
    {
     "name": "stdout",
     "output_type": "stream",
     "text": [
      "enter the number5\n",
      "factorial of 5 is 120\n"
     ]
    }
   ],
   "source": [
    "findfactorial()"
   ]
  },
  {
   "cell_type": "markdown",
   "id": "4ab64843",
   "metadata": {},
   "source": [
    "# Write a Python Program to Display the multiplication Table?"
   ]
  },
  {
   "cell_type": "code",
   "execution_count": 24,
   "id": "5fceb845",
   "metadata": {},
   "outputs": [],
   "source": [
    "def multiplication_table(): \n",
    "    num = int(input()) \n",
    "    if num >= 2: \n",
    "        mul = 1\n",
    "        for i in range(1,11): \n",
    "            mul = num * i \n",
    "            print(f'{num}*{i}={mul}') \n",
    "    else: \n",
    "        pass "
   ]
  },
  {
   "cell_type": "code",
   "execution_count": 25,
   "id": "c35a1ded",
   "metadata": {},
   "outputs": [
    {
     "name": "stdout",
     "output_type": "stream",
     "text": [
      "5\n",
      "5*1=5\n",
      "5*2=10\n",
      "5*3=15\n",
      "5*4=20\n",
      "5*5=25\n",
      "5*6=30\n",
      "5*7=35\n",
      "5*8=40\n",
      "5*9=45\n",
      "5*10=50\n"
     ]
    }
   ],
   "source": [
    "multiplication_table()"
   ]
  },
  {
   "cell_type": "markdown",
   "id": "3d0e448a",
   "metadata": {},
   "source": [
    "# Write a Python Program to Print the Fibonacci sequence?"
   ]
  },
  {
   "cell_type": "code",
   "execution_count": 27,
   "id": "3bf64fc2",
   "metadata": {},
   "outputs": [],
   "source": [
    "def fib(): \n",
    "    num = int(input()) \n",
    "    a,b = 0,1 \n",
    "    for i in range(num): \n",
    "        yield a \n",
    "        a,b = b,a+b \n",
    "        "
   ]
  },
  {
   "cell_type": "code",
   "execution_count": 28,
   "id": "797dcea9",
   "metadata": {},
   "outputs": [
    {
     "name": "stdout",
     "output_type": "stream",
     "text": [
      "7\n",
      "0\n",
      "1\n",
      "1\n",
      "2\n",
      "3\n",
      "5\n",
      "8\n"
     ]
    }
   ],
   "source": [
    "for i in fib(): \n",
    "    print(i)"
   ]
  },
  {
   "cell_type": "markdown",
   "id": "5964f688",
   "metadata": {},
   "source": [
    "# Write a Python Program to Check Armstrong Number?"
   ]
  },
  {
   "cell_type": "code",
   "execution_count": 29,
   "id": "2dc05867",
   "metadata": {},
   "outputs": [],
   "source": [
    "def checkarmstrong(): \n",
    "    num = input() \n",
    "    \n",
    "    sum = 0 \n",
    "    for i in num: \n",
    "        value = int(i)**len(num) \n",
    "        sum+=value \n",
    "    if sum == int(num): \n",
    "        print(f'{num} is an armstrong number') \n",
    "    else: \n",
    "        print(f'{num} is not an armstrong number')"
   ]
  },
  {
   "cell_type": "code",
   "execution_count": 30,
   "id": "3f32d676",
   "metadata": {},
   "outputs": [
    {
     "name": "stdout",
     "output_type": "stream",
     "text": [
      "1634\n",
      "1634 is an armstrong number\n"
     ]
    }
   ],
   "source": [
    "checkarmstrong()"
   ]
  },
  {
   "cell_type": "markdown",
   "id": "88bc633b",
   "metadata": {},
   "source": [
    "# Write a Python Program to Find Armstrong Number in an Interval?"
   ]
  },
  {
   "cell_type": "code",
   "execution_count": 31,
   "id": "e10f2c8a",
   "metadata": {},
   "outputs": [],
   "source": [
    "def armstrong_in_interval(): \n",
    "    lower = int(input())\n",
    "    upper = int(input())\n",
    "    \n",
    "    for num in range(lower,upper): \n",
    "        sum = 0  \n",
    "        for i in str(num): \n",
    "            value = int(i)**len(str(num)) \n",
    "            sum+=value \n",
    "        if sum == int(num): \n",
    "            print(num) \n",
    "        else: \n",
    "            continue "
   ]
  },
  {
   "cell_type": "code",
   "execution_count": 32,
   "id": "90ca5e91",
   "metadata": {},
   "outputs": [
    {
     "name": "stdout",
     "output_type": "stream",
     "text": [
      "0\n",
      "999\n",
      "0\n",
      "1\n",
      "2\n",
      "3\n",
      "4\n",
      "5\n",
      "6\n",
      "7\n",
      "8\n",
      "9\n",
      "153\n",
      "370\n",
      "371\n",
      "407\n"
     ]
    }
   ],
   "source": [
    "armstrong_in_interval()"
   ]
  },
  {
   "cell_type": "code",
   "execution_count": 14,
   "id": "f052786a",
   "metadata": {},
   "outputs": [
    {
     "data": {
      "text/plain": [
       "3"
      ]
     },
     "execution_count": 14,
     "metadata": {},
     "output_type": "execute_result"
    }
   ],
   "source": [
    "1633 % 10 "
   ]
  },
  {
   "cell_type": "markdown",
   "id": "4b850f16",
   "metadata": {},
   "source": [
    "# Write a Python Program to Find the Sum of Natural Numbers? "
   ]
  },
  {
   "cell_type": "code",
   "execution_count": 33,
   "id": "c8786df5",
   "metadata": {},
   "outputs": [],
   "source": [
    "def sum_of_natural(): \n",
    "    num = int(input()) \n",
    "    sum = 0 \n",
    "    for i in range(1,num+1): \n",
    "        sum = sum+i \n",
    "    print(sum)"
   ]
  },
  {
   "cell_type": "code",
   "execution_count": 36,
   "id": "70fc8a07",
   "metadata": {},
   "outputs": [
    {
     "name": "stdout",
     "output_type": "stream",
     "text": [
      "145\n",
      "10585\n"
     ]
    }
   ],
   "source": [
    "sum_of_natural()"
   ]
  },
  {
   "cell_type": "code",
   "execution_count": null,
   "id": "246cd86f",
   "metadata": {},
   "outputs": [],
   "source": []
  }
 ],
 "metadata": {
  "kernelspec": {
   "display_name": "Python 3 (ipykernel)",
   "language": "python",
   "name": "python3"
  },
  "language_info": {
   "codemirror_mode": {
    "name": "ipython",
    "version": 3
   },
   "file_extension": ".py",
   "mimetype": "text/x-python",
   "name": "python",
   "nbconvert_exporter": "python",
   "pygments_lexer": "ipython3",
   "version": "3.9.7"
  },
  "toc": {
   "base_numbering": 1,
   "nav_menu": {},
   "number_sections": true,
   "sideBar": true,
   "skip_h1_title": false,
   "title_cell": "Table of Contents",
   "title_sidebar": "Contents",
   "toc_cell": false,
   "toc_position": {},
   "toc_section_display": true,
   "toc_window_display": false
  }
 },
 "nbformat": 4,
 "nbformat_minor": 5
}
