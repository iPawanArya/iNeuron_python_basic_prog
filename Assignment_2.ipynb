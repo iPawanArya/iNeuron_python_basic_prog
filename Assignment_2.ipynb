{
 "cells": [
  {
   "cell_type": "markdown",
   "id": "5300d6f7",
   "metadata": {},
   "source": [
    "# Write a Python program to convert kilometers to miles?"
   ]
  },
  {
   "cell_type": "code",
   "execution_count": 1,
   "id": "3c5fc8f7",
   "metadata": {},
   "outputs": [],
   "source": [
    "def km_to_mile(km): \n",
    "    miles = 0.621 * km\n",
    "    print('{}km = {}miles'.format(km,miles))"
   ]
  },
  {
   "cell_type": "code",
   "execution_count": 2,
   "id": "957f96df",
   "metadata": {},
   "outputs": [
    {
     "name": "stdout",
     "output_type": "stream",
     "text": [
      "100km = 62.1miles\n"
     ]
    }
   ],
   "source": [
    "km_to_mile(100)"
   ]
  },
  {
   "cell_type": "markdown",
   "id": "18738372",
   "metadata": {},
   "source": [
    "# Write a Python program to convert Celsius to Fahrenheit?"
   ]
  },
  {
   "cell_type": "code",
   "execution_count": 3,
   "id": "0b99bac1",
   "metadata": {},
   "outputs": [],
   "source": [
    "def cel_to_fah(cel): \n",
    "    fah = (cel * 9/5)+32\n",
    "    print('{}°C = {}°F'.format(cel,fah))"
   ]
  },
  {
   "cell_type": "code",
   "execution_count": 5,
   "id": "ede98eb2",
   "metadata": {},
   "outputs": [
    {
     "name": "stdout",
     "output_type": "stream",
     "text": [
      "36°C = 96.8°F\n"
     ]
    }
   ],
   "source": [
    "cel_to_fah(36)"
   ]
  },
  {
   "cell_type": "markdown",
   "id": "60c8a13a",
   "metadata": {},
   "source": [
    "# Write a Python program to display calendar?"
   ]
  },
  {
   "cell_type": "code",
   "execution_count": 6,
   "id": "00884e19",
   "metadata": {},
   "outputs": [],
   "source": [
    "import calendar\n",
    "\n",
    "def disp_cal(mm, yy): \n",
    "    print(calendar.month(yy, mm))"
   ]
  },
  {
   "cell_type": "code",
   "execution_count": 9,
   "id": "46ae0436",
   "metadata": {},
   "outputs": [
    {
     "name": "stdout",
     "output_type": "stream",
     "text": [
      "     April 2022\n",
      "Mo Tu We Th Fr Sa Su\n",
      "             1  2  3\n",
      " 4  5  6  7  8  9 10\n",
      "11 12 13 14 15 16 17\n",
      "18 19 20 21 22 23 24\n",
      "25 26 27 28 29 30\n",
      "\n"
     ]
    }
   ],
   "source": [
    "disp_cal(4, 2022)"
   ]
  },
  {
   "cell_type": "markdown",
   "id": "975a9ed2",
   "metadata": {},
   "source": [
    "# Write a Python program to solve quadratic equation?"
   ]
  },
  {
   "cell_type": "code",
   "execution_count": 10,
   "id": "2ec5355f",
   "metadata": {},
   "outputs": [],
   "source": [
    "# suppose we have quadratic equation y = x*x + 2*x + 4 \n",
    "\n",
    "def quad_result(x): \n",
    "    y = x*x + 2*x + 4 \n",
    "    print('for x={} in quadratic equation y = x*x + 2*x + 4, y={}'.format(x,y))"
   ]
  },
  {
   "cell_type": "code",
   "execution_count": 11,
   "id": "3d9c098a",
   "metadata": {},
   "outputs": [
    {
     "name": "stdout",
     "output_type": "stream",
     "text": [
      "for x=5 in quadratic equation y = x*x + 2*x + 4, y=39\n"
     ]
    }
   ],
   "source": [
    "quad_result(5)"
   ]
  },
  {
   "cell_type": "markdown",
   "id": "bea2b788",
   "metadata": {},
   "source": [
    "# Write a Python program to swap two variables without temp variable?"
   ]
  },
  {
   "cell_type": "code",
   "execution_count": 14,
   "id": "a6d8231f",
   "metadata": {},
   "outputs": [],
   "source": [
    "def swap_var(a,b): \n",
    "    print('original value of variables a = {} and b = {}'.format(a,b))\n",
    "    a,b = b,a \n",
    "    print('value of variable after swapping a = {} and b = {}'.format(a,b))"
   ]
  },
  {
   "cell_type": "code",
   "execution_count": 15,
   "id": "18314373",
   "metadata": {},
   "outputs": [
    {
     "name": "stdout",
     "output_type": "stream",
     "text": [
      "original value of variables a = 34 and b = 98\n",
      "value of variable after swapping a = 98 and b = 34\n"
     ]
    }
   ],
   "source": [
    "swap_var(34,98)"
   ]
  },
  {
   "cell_type": "code",
   "execution_count": null,
   "id": "ea0b5ef6",
   "metadata": {},
   "outputs": [],
   "source": []
  }
 ],
 "metadata": {
  "kernelspec": {
   "display_name": "Python 3 (ipykernel)",
   "language": "python",
   "name": "python3"
  },
  "language_info": {
   "codemirror_mode": {
    "name": "ipython",
    "version": 3
   },
   "file_extension": ".py",
   "mimetype": "text/x-python",
   "name": "python",
   "nbconvert_exporter": "python",
   "pygments_lexer": "ipython3",
   "version": "3.9.7"
  },
  "toc": {
   "base_numbering": 1,
   "nav_menu": {},
   "number_sections": true,
   "sideBar": true,
   "skip_h1_title": false,
   "title_cell": "Table of Contents",
   "title_sidebar": "Contents",
   "toc_cell": false,
   "toc_position": {},
   "toc_section_display": true,
   "toc_window_display": false
  }
 },
 "nbformat": 4,
 "nbformat_minor": 5
}
