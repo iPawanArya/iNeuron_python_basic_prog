{
 "cells": [
  {
   "cell_type": "markdown",
   "id": "9eb453ec",
   "metadata": {},
   "source": [
    "# Write a program to find LCM?"
   ]
  },
  {
   "cell_type": "code",
   "execution_count": 4,
   "id": "86ffc131",
   "metadata": {},
   "outputs": [],
   "source": [
    "import logging \n",
    "logging.basicConfig(filename='log1.log', level=logging.INFO, format=\"%(asctime)s %(levelname)s %(message)s\",filemode='w')"
   ]
  },
  {
   "cell_type": "code",
   "execution_count": 9,
   "id": "33538fb9",
   "metadata": {},
   "outputs": [],
   "source": [
    "def findLCM(): \n",
    "    \n",
    "    '''finds LCM of two numbers'''\n",
    "    try:\n",
    "        \n",
    "        num1 = int(input()) \n",
    "        num2 = int(input()) \n",
    "       \n",
    "        logging.info(f'LCM of {num1} and {num2}')\n",
    "        \n",
    "        if num1 > num2: \n",
    "            greater = num1\n",
    "        else: \n",
    "            greater = num2 \n",
    "        \n",
    "        while True: \n",
    "            if (greater % num1 == 0) and (greater % num2 == 0): \n",
    "                lcm = greater \n",
    "                return lcm\n",
    "                break \n",
    "            \n",
    "            greater += 1 \n",
    "    except Exception as e: \n",
    "        print(e)\n",
    "        logging.error('error occured while opening the file') \n",
    "        logging.exception(f'error is {e}')\n",
    "            \n",
    "    \n",
    "    "
   ]
  },
  {
   "cell_type": "code",
   "execution_count": 10,
   "id": "2ab8e8f3",
   "metadata": {},
   "outputs": [
    {
     "name": "stdout",
     "output_type": "stream",
     "text": [
      "54\n",
      "128\n"
     ]
    },
    {
     "data": {
      "text/plain": [
       "3456"
      ]
     },
     "execution_count": 10,
     "metadata": {},
     "output_type": "execute_result"
    }
   ],
   "source": [
    "findLCM()"
   ]
  },
  {
   "cell_type": "markdown",
   "id": "50ed62d9",
   "metadata": {},
   "source": [
    "# Write a python program to find HCF? "
   ]
  },
  {
   "cell_type": "code",
   "execution_count": 21,
   "id": "2399f8ee",
   "metadata": {},
   "outputs": [],
   "source": [
    "def findHCF(): \n",
    "    num1 = int(input()) \n",
    "    num2 = int(input()) \n",
    "    \n",
    "    if num1 > num2: \n",
    "        smaller = num2 \n",
    "    else: \n",
    "        smaller = num1 \n",
    "    \n",
    "    for i in range(1, smaller+1): \n",
    "        if (num1 % i == 0) and (num2 % i == 0): \n",
    "            hcf = i \n",
    "    return hcf \n",
    "    "
   ]
  },
  {
   "cell_type": "code",
   "execution_count": 22,
   "id": "a8039b09",
   "metadata": {},
   "outputs": [
    {
     "name": "stdout",
     "output_type": "stream",
     "text": [
      "300\n",
      "400\n"
     ]
    },
    {
     "data": {
      "text/plain": [
       "100"
      ]
     },
     "execution_count": 22,
     "metadata": {},
     "output_type": "execute_result"
    }
   ],
   "source": [
    "findHCF()"
   ]
  },
  {
   "cell_type": "markdown",
   "id": "b7724550",
   "metadata": {},
   "source": [
    "# Write a Python Program to Convert Decimal to Binary, Octal and Hexadecimal?"
   ]
  },
  {
   "cell_type": "code",
   "execution_count": 25,
   "id": "cc150dc6",
   "metadata": {},
   "outputs": [
    {
     "name": "stdout",
     "output_type": "stream",
     "text": [
      "37\n",
      "binary no of 37 is 0b100101\n",
      "binary no of 37 is 0o45\n",
      "binary no of 37 is 0x25\n"
     ]
    }
   ],
   "source": [
    "dec = int(input()) \n",
    "print(f'binary no of {dec} is {bin(dec)}')\n",
    "print(f'binary no of {dec} is {oct(dec)}')\n",
    "print(f'binary no of {dec} is {hex(dec)}')"
   ]
  },
  {
   "cell_type": "markdown",
   "id": "798c4993",
   "metadata": {},
   "source": [
    "# Write a Python Program To Find ASCII value of a character?"
   ]
  },
  {
   "cell_type": "code",
   "execution_count": 32,
   "id": "cac5f221",
   "metadata": {},
   "outputs": [
    {
     "name": "stdout",
     "output_type": "stream",
     "text": [
      "S\n",
      "ASCII value for S is 83\n"
     ]
    }
   ],
   "source": [
    "char = input() \n",
    "print(f'ASCII value for {char} is {ord(char)}')"
   ]
  },
  {
   "cell_type": "markdown",
   "id": "fc930ee3",
   "metadata": {},
   "source": [
    "# Write a Python Program to Make a Simple Calculator with 4 basic mathematical operations?"
   ]
  },
  {
   "cell_type": "code",
   "execution_count": 33,
   "id": "491a5600",
   "metadata": {},
   "outputs": [],
   "source": [
    "def calc(): \n",
    "    '''it is a basic calculator for two numbers'''\n",
    "    try: \n",
    "        a = int(input()) \n",
    "        b = int(input()) \n",
    "        c = input()\n",
    "        logging.info('{} {} {}'.format(a,c,b))\n",
    "        if c == '+': \n",
    "            res = a+b \n",
    "        elif c == '-': \n",
    "            res = a-b \n",
    "        elif c == '/': \n",
    "            res = a/b \n",
    "        elif c == '*': \n",
    "            res = a*b \n",
    "        else: \n",
    "            res = 'invalid operation'\n",
    "            \n",
    "        return res \n",
    "    \n",
    "    except Exception as e: \n",
    "        print(e)\n",
    "        logging.error('error occured') # this is only a customizable message\n",
    "        logging.exception('exception occured: ' + str(e)) # customizable and system message "
   ]
  },
  {
   "cell_type": "code",
   "execution_count": 34,
   "id": "67657d6f",
   "metadata": {},
   "outputs": [
    {
     "name": "stdout",
     "output_type": "stream",
     "text": [
      "76\n",
      "99\n",
      "+\n"
     ]
    },
    {
     "data": {
      "text/plain": [
       "175"
      ]
     },
     "execution_count": 34,
     "metadata": {},
     "output_type": "execute_result"
    }
   ],
   "source": [
    "calc()"
   ]
  },
  {
   "cell_type": "code",
   "execution_count": null,
   "id": "5f86f420",
   "metadata": {},
   "outputs": [],
   "source": []
  }
 ],
 "metadata": {
  "kernelspec": {
   "display_name": "Python 3 (ipykernel)",
   "language": "python",
   "name": "python3"
  },
  "language_info": {
   "codemirror_mode": {
    "name": "ipython",
    "version": 3
   },
   "file_extension": ".py",
   "mimetype": "text/x-python",
   "name": "python",
   "nbconvert_exporter": "python",
   "pygments_lexer": "ipython3",
   "version": "3.9.7"
  },
  "toc": {
   "base_numbering": 1,
   "nav_menu": {},
   "number_sections": true,
   "sideBar": true,
   "skip_h1_title": false,
   "title_cell": "Table of Contents",
   "title_sidebar": "Contents",
   "toc_cell": false,
   "toc_position": {},
   "toc_section_display": true,
   "toc_window_display": false
  }
 },
 "nbformat": 4,
 "nbformat_minor": 5
}
