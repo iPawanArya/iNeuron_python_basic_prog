{
 "cells": [
  {
   "cell_type": "markdown",
   "id": "a3a35de2",
   "metadata": {},
   "source": [
    "# Write a Python Program to Display Fibonacci Sequence Using Recursion?"
   ]
  },
  {
   "cell_type": "code",
   "execution_count": 12,
   "id": "d292e52f",
   "metadata": {},
   "outputs": [],
   "source": [
    "import logging \n",
    "logging.basicConfig(filename='log1.log', level=logging.INFO, format=\"%(asctime)s %(levelname)s %(message)s\",filemode='w')"
   ]
  },
  {
   "cell_type": "code",
   "execution_count": 9,
   "id": "cd80de2c",
   "metadata": {},
   "outputs": [],
   "source": [
    "def rec_fibo(n): \n",
    "    \n",
    "    '''display fibonacci sequence using recursion'''\n",
    "    try: \n",
    "        \n",
    "        logging.info('execution of code')\n",
    "        \n",
    "        if n <= 1: \n",
    "            return n \n",
    "        else: \n",
    "            return (rec_fibo(n-1)+rec_fibo(n-2)) \n",
    "    \n",
    "    except Exception as e: \n",
    "        print(e) \n",
    "        logging.exception(e)"
   ]
  },
  {
   "cell_type": "code",
   "execution_count": 11,
   "id": "7cc3edb5",
   "metadata": {},
   "outputs": [
    {
     "name": "stdout",
     "output_type": "stream",
     "text": [
      "how many terms...10\n",
      "fibonacci sequence\n",
      "0\n",
      "1\n",
      "1\n",
      "2\n",
      "3\n",
      "5\n",
      "8\n",
      "13\n",
      "21\n",
      "34\n"
     ]
    }
   ],
   "source": [
    "nterms = int(input('how many terms...')) \n",
    "\n",
    "try:\n",
    "    \n",
    "    logging.info('execution of code')\n",
    "    \n",
    "    if nterms <= 0: \n",
    "        print('enter a positive no')\n",
    "    else: \n",
    "        print('fibonacci sequence')\n",
    "        for i in range(nterms): \n",
    "            print(rec_fibo(i))\n",
    "except Exception as e: \n",
    "    print(e)\n",
    "    logging.exception(e)"
   ]
  },
  {
   "cell_type": "markdown",
   "id": "6c28df7c",
   "metadata": {},
   "source": [
    "# Write a Python Program to Find Factorial of Number Using Recursion?"
   ]
  },
  {
   "cell_type": "code",
   "execution_count": 14,
   "id": "df30bd7c",
   "metadata": {},
   "outputs": [
    {
     "name": "stdout",
     "output_type": "stream",
     "text": [
      "5\n",
      "factorial of 5 is 120\n"
     ]
    }
   ],
   "source": [
    "def rec_factorial(n): \n",
    "    if n==1: \n",
    "        return n \n",
    "    else: \n",
    "        return n * rec_factorial(n-1) \n",
    "\n",
    "n = int(input()) \n",
    "if n < 0: \n",
    "    print('invalid input')\n",
    "elif n == 0: \n",
    "    print('1') \n",
    "else: \n",
    "    print(f'factorial of {n} is {rec_factorial(n)}')\n"
   ]
  },
  {
   "cell_type": "markdown",
   "id": "84f6d0bc",
   "metadata": {},
   "source": [
    "# Write a Python Program to calculate your Body Mass Index?"
   ]
  },
  {
   "cell_type": "code",
   "execution_count": 16,
   "id": "ad610c8a",
   "metadata": {},
   "outputs": [
    {
     "name": "stdout",
     "output_type": "stream",
     "text": [
      "enter height in inch: 5\n",
      "enter weight in kg: 50\n",
      "Your body mass index is:  2.0\n"
     ]
    }
   ],
   "source": [
    "height = float(input('enter height in inch: '))\n",
    "weight = float(input('enter weight in kg: ')) \n",
    "print(\"Your body mass index is: \", round(weight / (height * height), 2))"
   ]
  },
  {
   "cell_type": "markdown",
   "id": "043bb247",
   "metadata": {},
   "source": [
    "# Write a Python Program to calculate the natural logarithm of any number?"
   ]
  },
  {
   "cell_type": "code",
   "execution_count": 21,
   "id": "beee7d3f",
   "metadata": {},
   "outputs": [],
   "source": [
    "import math \n",
    "def findlog(): \n",
    "    num = int(input()) \n",
    "    base = int(input()) \n",
    "    print(f'log{num} of base{base} is {math.log(num,base)}')"
   ]
  },
  {
   "cell_type": "code",
   "execution_count": 22,
   "id": "7704efae",
   "metadata": {},
   "outputs": [
    {
     "name": "stdout",
     "output_type": "stream",
     "text": [
      "10\n",
      "2\n",
      "log10 of base2 is 3.3219280948873626\n"
     ]
    }
   ],
   "source": [
    "findlog()"
   ]
  },
  {
   "cell_type": "markdown",
   "id": "2eebb29a",
   "metadata": {},
   "source": [
    "# Write a Python Program for cube sum of first n natural numbers?"
   ]
  },
  {
   "cell_type": "code",
   "execution_count": 25,
   "id": "f8510b1a",
   "metadata": {},
   "outputs": [],
   "source": [
    "def findcube(): \n",
    "    num = int(input()) \n",
    "    value = 0\n",
    "    for i in range(1, num+1): \n",
    "        value += i**3 \n",
    "    return value \n",
    "        "
   ]
  },
  {
   "cell_type": "code",
   "execution_count": 26,
   "id": "5a1ac767",
   "metadata": {},
   "outputs": [
    {
     "name": "stdout",
     "output_type": "stream",
     "text": [
      "5\n"
     ]
    },
    {
     "data": {
      "text/plain": [
       "225"
      ]
     },
     "execution_count": 26,
     "metadata": {},
     "output_type": "execute_result"
    }
   ],
   "source": [
    "findcube()"
   ]
  },
  {
   "cell_type": "code",
   "execution_count": null,
   "id": "c818e67a",
   "metadata": {},
   "outputs": [],
   "source": []
  }
 ],
 "metadata": {
  "kernelspec": {
   "display_name": "Python 3 (ipykernel)",
   "language": "python",
   "name": "python3"
  },
  "language_info": {
   "codemirror_mode": {
    "name": "ipython",
    "version": 3
   },
   "file_extension": ".py",
   "mimetype": "text/x-python",
   "name": "python",
   "nbconvert_exporter": "python",
   "pygments_lexer": "ipython3",
   "version": "3.9.7"
  },
  "toc": {
   "base_numbering": 1,
   "nav_menu": {},
   "number_sections": true,
   "sideBar": true,
   "skip_h1_title": false,
   "title_cell": "Table of Contents",
   "title_sidebar": "Contents",
   "toc_cell": false,
   "toc_position": {},
   "toc_section_display": true,
   "toc_window_display": false
  }
 },
 "nbformat": 4,
 "nbformat_minor": 5
}
